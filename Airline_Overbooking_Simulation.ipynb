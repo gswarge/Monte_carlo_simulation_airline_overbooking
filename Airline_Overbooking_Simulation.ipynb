{
  "nbformat": 4,
  "nbformat_minor": 0,
  "metadata": {
    "colab": {
      "name": "Airline-Overbooking-Simulation",
      "version": "0.3.2",
      "provenance": [],
      "collapsed_sections": []
    },
    "kernelspec": {
      "name": "python3",
      "display_name": "Python 3"
    }
  },
  "cells": [
    {
      "cell_type": "markdown",
      "metadata": {
        "id": "WTg_v6juHhRD",
        "colab_type": "text"
      },
      "source": [
        "**Monte Carlo Simulation for Airline Overbooking**\n",
        "\n",
        "based on the blog post: https://simonensemble.github.io/operations%20research/2018/07/24/airline-overbooking/ \n",
        "\n",
        "\n"
      ]
    },
    {
      "cell_type": "code",
      "metadata": {
        "id": "s8T-XIPnHnvY",
        "colab_type": "code",
        "colab": {}
      },
      "source": [
        "#Setup\n",
        "seat_capacity = 100;\n",
        "prob_showup = 0.94;"
      ],
      "execution_count": 0,
      "outputs": []
    },
    {
      "cell_type": "code",
      "metadata": {
        "id": "oe8rDxtaRYHM",
        "colab_type": "code",
        "colab": {}
      },
      "source": [
        "import seaborn as sns\n",
        "import matplotlib as mlt\n",
        "import random as rd\n",
        "import numpy as np\n",
        "from matplotlib import rcParams\n",
        "import matplotlib.pyplot as plt\n"
      ],
      "execution_count": 0,
      "outputs": []
    },
    {
      "cell_type": "code",
      "metadata": {
        "id": "qLM3DbHdJAmW",
        "colab_type": "code",
        "colab": {}
      },
      "source": [
        "def show_up(prob_showup):\n",
        "  if rd.random() <= 0.94 :\n",
        "    return True; #person showed up\n",
        "  else:\n",
        "    return False; #person didnt show up\n",
        "    \n",
        "\n",
        "#print (\"Defined function for probability of showing up\");\n"
      ],
      "execution_count": 0,
      "outputs": []
    },
    {
      "cell_type": "code",
      "metadata": {
        "id": "KeWfMXa_KIRv",
        "colab_type": "code",
        "colab": {}
      },
      "source": [
        "def simulate_flight(tickets_sold,prob_showup):\n",
        "  n=0;\n",
        "  for i in range(1,tickets_sold):\n",
        "      if(show_up(prob_showup)):\n",
        "        n = n+1;\n",
        "        \n",
        "  return n"
      ],
      "execution_count": 0,
      "outputs": []
    },
    {
      "cell_type": "code",
      "metadata": {
        "id": "DNeDb7FULTsL",
        "colab_type": "code",
        "colab": {}
      },
      "source": [
        "def simulate_net_revenue(tickets_sold, seat_capacity,prob_showup, revenue_per_seat, voucher_cost):\n",
        "  total_showups = simulate_flight(tickets_sold,prob_showup);\n",
        "  # no one bumped from flight if less or equal folks show up than for the number of seats we have\n",
        "  if (total_showups <= seat_capacity):\n",
        "    return revenue_per_seat * total_showups;\n",
        "  else:\n",
        "     upset_customers = total_showups - seat_capacity;\n",
        "     return (total_showups * revenue_per_seat) - (voucher_cost * upset_customers);\n",
        "  \n"
      ],
      "execution_count": 0,
      "outputs": []
    },
    {
      "cell_type": "code",
      "metadata": {
        "id": "da34NNRdOaQX",
        "colab_type": "code",
        "colab": {}
      },
      "source": [
        "revenue_per_seat = 400;\n",
        "voucher_cost = revenue_per_seat * 2;\n",
        "no_simulations = 10000;\n",
        "max_overbooking = 15;\n",
        "revenue = np.zeros(shape = (no_simulations,max_overbooking+1));\n"
      ],
      "execution_count": 0,
      "outputs": []
    },
    {
      "cell_type": "code",
      "metadata": {
        "id": "U7GEO4SePyfk",
        "colab_type": "code",
        "colab": {}
      },
      "source": [
        "for tickets_overbooked in range(0,max_overbooking):\n",
        "  tickets_sold = seat_capacity + tickets_overbooked;\n",
        "  for i in range(1,no_simulations):\n",
        "    revenue[i,tickets_overbooked+1] = simulate_net_revenue(tickets_sold, seat_capacity,prob_showup, revenue_per_seat, voucher_cost);\n",
        "    \n",
        "   \n"
      ],
      "execution_count": 0,
      "outputs": []
    },
    {
      "cell_type": "code",
      "metadata": {
        "id": "vvq3uhNQY3Pw",
        "colab_type": "code",
        "outputId": "ee1c9727-7951-423c-a13c-ec55bbb19219",
        "colab": {
          "base_uri": "https://localhost:8080/",
          "height": 51
        }
      },
      "source": [
        "print(revenue.shape);\n",
        "print(revenue.dtype);"
      ],
      "execution_count": 0,
      "outputs": [
        {
          "output_type": "stream",
          "text": [
            "(10000, 16)\n",
            "float64\n"
          ],
          "name": "stdout"
        }
      ]
    },
    {
      "cell_type": "code",
      "metadata": {
        "id": "geqOUzy4RT85",
        "colab_type": "code",
        "outputId": "05cbf445-c5ab-42cd-ea6a-405b6edc1671",
        "colab": {
          "base_uri": "https://localhost:8080/",
          "height": 889
        }
      },
      "source": [
        "#Plotting the Simulation\n",
        "\n",
        "#sns.set_style(\"whitegrid\");\n",
        "#sns.set_palette(\"pastel\")\n",
        "#sns.set_context(\"paper\")\n",
        "sns.set();\n",
        "sns.set(rc={'figure.figsize':(10,15)})\n",
        "ax = sns.boxplot(data = revenue);\n",
        "plt.xlabel(\"No. of Tickets Oversold\");\n",
        "plt.ylabel(\"Net Profit\")\n",
        "plt.ylim(30000,42000);\n",
        "plt.yticks([33000,35000,36000,37000,38000,39000,40000]);\n"
      ],
      "execution_count": 0,
      "outputs": [
        {
          "output_type": "display_data",
          "data": {
            "image/png": "[encoded data removed]",
            "text/plain": [
              "<Figure size 720x1080 with 1 Axes>"
            ]
          },
          "metadata": {
            "tags": []
          }
        }
      ]
    }
  ]
}